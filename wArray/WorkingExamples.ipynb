{
 "cells": [
  {
   "cell_type": "code",
   "execution_count": 2,
   "metadata": {},
   "outputs": [
    {
     "data": {
      "text/plain": [
       "<module 'callFortran' from '/Users/pmzrsg/source/pythonCallsFortran/wArray/callFortran.py'>"
      ]
     },
     "execution_count": 2,
     "metadata": {},
     "output_type": "execute_result"
    }
   ],
   "source": [
    "import importlib\n",
    "import numpy as np\n",
    "\n",
    "import callFortran\n",
    "importlib.reload(callFortran) #ipython_only"
   ]
  },
  {
   "cell_type": "code",
   "execution_count": null,
   "metadata": {},
   "outputs": [],
   "source": []
  },
  {
   "cell_type": "code",
   "execution_count": 30,
   "metadata": {},
   "outputs": [],
   "source": [
    "rows=2\n",
    "columns=30\n",
    "u = np.linspace(0, 1.0, num=rows*columns)\n",
    "x = np.reshape(u, (rows, columns))\n",
    "actual= callFortran.callFunction( x)\n",
    "expected = np.exp(x)\n",
    "np.testing.assert_almost_equal(actual,expected)"
   ]
  },
  {
   "cell_type": "code",
   "execution_count": 29,
   "metadata": {},
   "outputs": [
    {
     "data": {
      "text/plain": [
       "array([[0.        , 0.01694915, 0.03389831, 0.05084746, 0.06779661,\n",
       "        0.08474576, 0.10169492, 0.11864407, 0.13559322, 0.15254237,\n",
       "        0.16949153, 0.18644068, 0.20338983, 0.22033898, 0.23728814,\n",
       "        0.25423729, 0.27118644, 0.28813559, 0.30508475, 0.3220339 ,\n",
       "        0.33898305, 0.3559322 , 0.37288136, 0.38983051, 0.40677966,\n",
       "        0.42372881, 0.44067797, 0.45762712, 0.47457627, 0.49152542],\n",
       "       [0.50847458, 0.52542373, 0.54237288, 0.55932203, 0.57627119,\n",
       "        0.59322034, 0.61016949, 0.62711864, 0.6440678 , 0.66101695,\n",
       "        0.6779661 , 0.69491525, 0.71186441, 0.72881356, 0.74576271,\n",
       "        0.76271186, 0.77966102, 0.79661017, 0.81355932, 0.83050847,\n",
       "        0.84745763, 0.86440678, 0.88135593, 0.89830508, 0.91525424,\n",
       "        0.93220339, 0.94915254, 0.96610169, 0.98305085, 1.        ]])"
      ]
     },
     "execution_count": 29,
     "metadata": {},
     "output_type": "execute_result"
    }
   ],
   "source": [
    "\n",
    "x"
   ]
  },
  {
   "cell_type": "code",
   "execution_count": 22,
   "metadata": {},
   "outputs": [
    {
     "data": {
      "text/plain": [
       "array([[1.        , 1.22140276, 1.4918247 ],\n",
       "       [1.8221188 , 2.22554093, 2.71828183]])"
      ]
     },
     "execution_count": 22,
     "metadata": {},
     "output_type": "execute_result"
    }
   ],
   "source": [
    "np.exp(x)"
   ]
  },
  {
   "cell_type": "code",
   "execution_count": 23,
   "metadata": {},
   "outputs": [],
   "source": []
  },
  {
   "cell_type": "code",
   "execution_count": 24,
   "metadata": {},
   "outputs": [
    {
     "data": {
      "text/plain": [
       "array([[0. , 0.2, 0.4],\n",
       "       [0.6, 0.8, 1. ]])"
      ]
     },
     "execution_count": 24,
     "metadata": {},
     "output_type": "execute_result"
    }
   ],
   "source": [
    "x"
   ]
  },
  {
   "cell_type": "code",
   "execution_count": 25,
   "metadata": {},
   "outputs": [],
   "source": []
  },
  {
   "cell_type": "code",
   "execution_count": 19,
   "metadata": {},
   "outputs": [],
   "source": []
  },
  {
   "cell_type": "code",
   "execution_count": null,
   "metadata": {},
   "outputs": [],
   "source": []
  }
 ],
 "metadata": {
  "anaconda-cloud": {},
  "kernelspec": {
   "display_name": "Python 3",
   "language": "python",
   "name": "python3"
  },
  "language_info": {
   "codemirror_mode": {
    "name": "ipython",
    "version": 3
   },
   "file_extension": ".py",
   "mimetype": "text/x-python",
   "name": "python",
   "nbconvert_exporter": "python",
   "pygments_lexer": "ipython3",
   "version": "3.8.8"
  }
 },
 "nbformat": 4,
 "nbformat_minor": 1
}
