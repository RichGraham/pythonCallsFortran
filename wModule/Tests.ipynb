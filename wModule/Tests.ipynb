{
 "cells": [
  {
   "cell_type": "code",
   "execution_count": 5,
   "metadata": {},
   "outputs": [
    {
     "data": {
      "text/plain": [
       "<module 'callFortran' from '/Users/pmzrsg/source/pythonCallsFortran/wModule/callFortran.py'>"
      ]
     },
     "execution_count": 5,
     "metadata": {},
     "output_type": "execute_result"
    }
   ],
   "source": [
    "import unittest\n",
    "import importlib\n",
    "\n",
    "import callFortran\n",
    "importlib.reload(callFortran) #ipython_only"
   ]
  },
  {
   "cell_type": "code",
   "execution_count": 6,
   "metadata": {},
   "outputs": [
    {
     "name": "stderr",
     "output_type": "stream",
     "text": [
      "..\n",
      "----------------------------------------------------------------------\n",
      "Ran 2 tests in 0.002s\n",
      "\n",
      "OK\n"
     ]
    },
    {
     "data": {
      "text/plain": [
       "<unittest.main.TestProgram at 0x7fbc89d6af40>"
      ]
     },
     "execution_count": 6,
     "metadata": {},
     "output_type": "execute_result"
    }
   ],
   "source": [
    "importlib.reload(callFortran) #ipython_only\n",
    "class TestFunctionCalls(unittest.TestCase):\n",
    "    def testValuesWithDefaultAdditiveConstant(self):\n",
    "        callFortran.setAdditiveConstant( 2.0)\n",
    "        self.assertAlmostEqual( callFortran.callFunction(0),2.0)\n",
    "        self.assertAlmostEqual( callFortran.callFunction(2.5),4.5)\n",
    "\n",
    "    def testValuesWithChangedAdditiveConstant(self):\n",
    "        callFortran.setAdditiveConstant( 2.0)\n",
    "        self.assertAlmostEqual( callFortran.callFunction(0),2.0)\n",
    "        self.assertAlmostEqual( callFortran.callFunction(2.5),4.5)\n",
    "        \n",
    "        callFortran.setAdditiveConstant( 0.0)\n",
    "        self.assertAlmostEqual( callFortran.callFunction(0),0.0)\n",
    "        self.assertAlmostEqual( callFortran.callFunction(5),5.0)\n",
    "        \n",
    "        callFortran.setAdditiveConstant( -10.0)\n",
    "        self.assertAlmostEqual( callFortran.callFunction(2),-8.0)\n",
    "        self.assertAlmostEqual( callFortran.callFunction(12),2.0)\n",
    "\n",
    "        \n",
    "\n",
    "unittest.main(argv=['first-arg-is-ignored'], exit=False) #ipython_only"
   ]
  },
  {
   "cell_type": "code",
   "execution_count": null,
   "metadata": {},
   "outputs": [],
   "source": []
  },
  {
   "cell_type": "code",
   "execution_count": 20,
   "metadata": {},
   "outputs": [
    {
     "name": "stderr",
     "output_type": "stream",
     "text": [
      "..............\n",
      "----------------------------------------------------------------------\n",
      "Ran 14 tests in 0.024s\n",
      "\n",
      "OK\n"
     ]
    },
    {
     "data": {
      "text/plain": [
       "<unittest.main.TestProgram at 0x7fb557322880>"
      ]
     },
     "execution_count": 20,
     "metadata": {},
     "output_type": "execute_result"
    }
   ],
   "source": [
    "class TestBlank(unittest.TestCase):\n",
    "    \n",
    "    def testBlank(self):\n",
    "        pass\n",
    "        \n",
    "\n",
    "unittest.main(argv=['first-arg-is-ignored'], exit=False) #ipython_only"
   ]
  },
  {
   "cell_type": "code",
   "execution_count": null,
   "metadata": {},
   "outputs": [],
   "source": []
  },
  {
   "cell_type": "code",
   "execution_count": 17,
   "metadata": {},
   "outputs": [
    {
     "name": "stderr",
     "output_type": "stream",
     "text": [
      "...........\n",
      "----------------------------------------------------------------------\n",
      "Ran 11 tests in 0.019s\n",
      "\n",
      "OK\n"
     ]
    },
    {
     "data": {
      "text/plain": [
       "<unittest.main.TestProgram at 0x7fc0796c71f0>"
      ]
     },
     "execution_count": 17,
     "metadata": {},
     "output_type": "execute_result"
    }
   ],
   "source": [
    "unittest.main(argv=['first-arg-is-ignored'], exit=False)"
   ]
  },
  {
   "cell_type": "code",
   "execution_count": null,
   "metadata": {},
   "outputs": [],
   "source": []
  },
  {
   "cell_type": "code",
   "execution_count": null,
   "metadata": {},
   "outputs": [],
   "source": []
  },
  {
   "cell_type": "code",
   "execution_count": null,
   "metadata": {},
   "outputs": [],
   "source": []
  }
 ],
 "metadata": {
  "anaconda-cloud": {},
  "kernelspec": {
   "display_name": "Python 3",
   "language": "python",
   "name": "python3"
  },
  "language_info": {
   "codemirror_mode": {
    "name": "ipython",
    "version": 3
   },
   "file_extension": ".py",
   "mimetype": "text/x-python",
   "name": "python",
   "nbconvert_exporter": "python",
   "pygments_lexer": "ipython3",
   "version": "3.8.8"
  }
 },
 "nbformat": 4,
 "nbformat_minor": 1
}
